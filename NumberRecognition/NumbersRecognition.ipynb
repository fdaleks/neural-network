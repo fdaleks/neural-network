{
 "cells": [
  {
   "cell_type": "code",
   "execution_count": 52,
   "metadata": {},
   "outputs": [],
   "source": [
    "import numpy\n",
    "import imageio\n",
    "import scipy.special\n",
    "import matplotlib.pyplot\n",
    "\n",
    "class NumbersRecognition:\n",
    "    # инициализировать нейронную сеть\n",
    "    def __init__(self, input_nodes, hidden_nodes, output_nodes, learning_rate):\n",
    "        \n",
    "        # задать количество узлов во входном, скрытом и выходном слоях\n",
    "        self.i_nodes = input_nodes\n",
    "        self.h_nodes = hidden_nodes\n",
    "        self.o_nodes = output_nodes\n",
    "        \n",
    "        # Матрицы весовых коэффициентов связей w_ih (между входным и скрытым слоями) и w_ho (между скрытым и выходным слоями).\n",
    "\n",
    "        # w_ih is a matrix (h_nodes, i_nodes), where number of rows = h_nodes, and number of columns = i_nodes.\n",
    "        # ==> in current test the matrix is (100, 784), where number of rows = 100 and number of columns = 784.\n",
    "        self.w_ih = numpy.random.normal(0.0, pow(self.h_nodes, -0.5), (self.h_nodes, self.i_nodes))\n",
    "        \n",
    "        # w_ho is a matrix (o_nodes, h_nodes), where number of rows = o_nodes, and number of columns = h_nodes.\n",
    "        # ==> in current test the matrix is (10, 100), where number of rows = 10 and number of columns = 100.\n",
    "        self.w_ho = numpy.random.normal(0.0, pow(self.o_nodes, -0.5), (self.o_nodes, self.h_nodes))\n",
    "        \n",
    "        # коэффициент обучения\n",
    "        self.lr = learning_rate\n",
    "        \n",
    "        # использование сигмоиды в качестве функции активации\n",
    "        self.activation_function = lambda x: scipy.special.expit(x)\n",
    "        self.inverse_activation_function = lambda x: scipy.special.logit(x)\n",
    "        pass\n",
    "\n",
    "    # тренировка нейронной сети\n",
    "    def train(self, inputs_list, targets_list):\n",
    "        \n",
    "        # преобразование списка входных значений в двухмерный массив\n",
    "        # .T is transpose of this matrix\n",
    "        inputs = numpy.array(inputs_list, ndmin=2).T\n",
    "        targets = numpy.array(targets_list, ndmin=2).T\n",
    "        \n",
    "        # рассчитать входящие и исходящие сигналы для скрытого слоя\n",
    "        # numpy.dot returns the dot product of two arrays. For 2-D vectors, it is the equivalent to matrix multiplication.\n",
    "        hidden_inputs = numpy.dot(self.w_ih, inputs)\n",
    "        hidden_outputs = self.activation_function(hidden_inputs)\n",
    "        \n",
    "        # рассчитать входящие и исходящие сигналы для выходного слоя\n",
    "        final_inputs = numpy.dot(self.w_ho, hidden_outputs)\n",
    "        final_outputs = self.activation_function(final_inputs)\n",
    "        \n",
    "        # ошибки выходного слоя = (целевое значение - фактическое значение)\n",
    "        output_errors = targets - final_outputs\n",
    "        \n",
    "        # ошибки скрытого слоя - это ошибки output_errors, распределенные пропорционально \n",
    "        # весовым коэффициентам связей и рекомбинированные на скрытых узлах\n",
    "        hidden_errors = numpy.dot(self.w_ho.T, output_errors)\n",
    "        \n",
    "        # обновить веса для связей между скрытым и выходным слоями\n",
    "        self.w_ho += self.lr * numpy.dot((output_errors * final_outputs * (1.0 - final_outputs)), \n",
    "                                         numpy.transpose(hidden_outputs))\n",
    "        \n",
    "        # обновить весовые коэффициенты для связей между входным и скрытым слоями\n",
    "        self.w_ih += self.lr * numpy.dot((hidden_errors * hidden_outputs * (1.0 - hidden_outputs)), \n",
    "                                         numpy.transpose(inputs))\n",
    "        pass\n",
    "\n",
    "    # опрос нейронной сети\n",
    "    def query(self, inputs_list):\n",
    "        \n",
    "        # преобразовать список входных значений в двухмерный массив\n",
    "        inputs = numpy.array(inputs_list, ndmin=2).T\n",
    "        \n",
    "        # рассчитать входящие и исходящие сигналы для скрытого слоя\n",
    "        hidden_inputs = numpy.dot(self.w_ih, inputs)\n",
    "        hidden_outputs = self.activation_function(hidden_inputs)\n",
    "        \n",
    "        # рассчитать входящие и исходящие сигналы для выходного слоя\n",
    "        final_inputs = numpy.dot(self.w_ho, hidden_outputs)\n",
    "        final_outputs = self.activation_function(final_inputs)\n",
    "        \n",
    "        return final_outputs\n",
    "    \n",
    "    def backquery(self, targets_list):\n",
    "        # transpose the targets list to a vertical array\n",
    "        final_outputs = numpy.array(targets_list, ndmin=2).T\n",
    "        \n",
    "        # calculate the signal into the final output layer\n",
    "        final_inputs = self.inverse_activation_function(final_outputs)\n",
    "\n",
    "        # calculate the signal out of the hidden layer\n",
    "        hidden_outputs = numpy.dot(self.w_ho.T, final_inputs)\n",
    "        # scale them back to 0.01 to .99\n",
    "        hidden_outputs -= numpy.min(hidden_outputs)\n",
    "        hidden_outputs /= numpy.max(hidden_outputs)\n",
    "        hidden_outputs *= 0.98\n",
    "        hidden_outputs += 0.01\n",
    "        \n",
    "        # calculate the signal into the hidden layer\n",
    "        hidden_inputs = self.inverse_activation_function(hidden_outputs)\n",
    "        \n",
    "        # calculate the signal out of the input layer\n",
    "        inputs = numpy.dot(self.w_ih.T, hidden_inputs)\n",
    "        # scale them back to 0.01 to .99\n",
    "        inputs -= numpy.min(inputs)\n",
    "        inputs /= numpy.max(inputs)\n",
    "        inputs *= 0.98\n",
    "        inputs += 0.01\n",
    "        \n",
    "        return inputs\n",
    "\n",
    "    pass"
   ]
  },
  {
   "cell_type": "code",
   "execution_count": 53,
   "metadata": {},
   "outputs": [],
   "source": [
    "# read data from file\n",
    "def read_file(path_to_file):\n",
    "    file = open(path_to_file, 'r')\n",
    "    data = file.readlines()\n",
    "    file.close()\n",
    "    return data"
   ]
  },
  {
   "cell_type": "code",
   "execution_count": 54,
   "metadata": {},
   "outputs": [],
   "source": [
    "# метод для масштабирования и смещения входных значений\n",
    "def scale_input_values(values):\n",
    "    # деление исходных входных значений, изменяющихся в диапазоне (0 - 255), на 255 приведёт их к диапазону (0 - 1,0)\n",
    "    # последующее умножение этих значений на 0,99 приведёт их к диапазону (0,0 - 0,99)\n",
    "    # далее мы инкрементируем их на 0,01, чтоб вместить их в желаемый диапазон (0,01 - 1,0)\n",
    "    return (numpy.asfarray(values) / 255.0 * 0.99) + 0.01"
   ]
  },
  {
   "cell_type": "code",
   "execution_count": 55,
   "metadata": {},
   "outputs": [],
   "source": [
    "# количество входных, скрытых и выходных узлов\n",
    "input_nodes = 784\n",
    "hidden_nodes = 100\n",
    "output_nodes = 10\n",
    "\n",
    "# коэффициент обучения\n",
    "learning_rate = 0.1\n",
    "\n",
    "# создаём экземпляр нейронной сети\n",
    "n = NumbersRecognition(input_nodes, hidden_nodes, output_nodes, learning_rate)\n",
    "\n",
    "# загружаем в список тренировочный набор данных\n",
    "training_data_list = read_file(\"mnist_dataset/mnist_train.csv\")\n",
    "#training_data_list = read_file(\"mnist_dataset/mnist_train_100.csv\")\n",
    "\n",
    "# train neural network\n",
    "\n",
    "# переменная epochs указывает, сколько раз тренировочный тренировочный набор данных используется для тренировки нейронной сети\n",
    "epochs = 5\n",
    "\n",
    "for e in range(epochs):\n",
    "    # перебрать все записи в тренировочном наборе данных\n",
    "    for record in training_data_list:\n",
    "        # получить список значений, используя символ \",\" в качестве разделителя\n",
    "        all_training_values = record.split(',')\n",
    "        # масштабировать и сместить входные значения\n",
    "        scaled_inputs = scale_input_values(all_training_values[1:])\n",
    "        # создать целевые выходные значения(все равны 0.01, за исключением маркерного значения)\n",
    "        targets = numpy.zeros(output_nodes) + 0.01\n",
    "        targets[int(all_training_values[0])] = 0.99\n",
    "    \n",
    "        n.train(scaled_inputs, targets)\n",
    "        pass\n",
    "    pass"
   ]
  },
  {
   "cell_type": "code",
   "execution_count": 8,
   "metadata": {},
   "outputs": [],
   "source": [
    "# проверим роботу нейронки\n",
    "test_data_list = read_file(\"mnist_dataset/mnist_test.csv\")\n",
    "#test_data_list = read_file(\"mnist_dataset/mnist_test_10.csv\")\n",
    "\n",
    "# журнал оценок работы сети, первоначально пустой\n",
    "scorecard = []\n",
    "\n",
    "# перебрать все записи в тестовом наборе\n",
    "for record in test_data_list:\n",
    "    # получить список значений из записи, исполььзуя в качестве разделителя символ запятой\n",
    "    all_values = record.split(',')\n",
    "    # правильный ответ - первое значение\n",
    "    correct_lable = int(all_values[0])\n",
    "    # масштабировать и сместить входные значения\n",
    "    inputs = scale_input_values(all_values[1:])\n",
    "    # опрос сети\n",
    "    outputs = n.query(inputs)\n",
    "    # индекс наибольшего значения является маркерным значением\n",
    "    label = numpy.argmax(outputs)\n",
    "    # в случае правильного ответа сети присоединить к списку значение 1, иначе - 0\n",
    "    if (label == correct_lable):\n",
    "        scorecard.append(1)\n",
    "    else:\n",
    "        scorecard.append(0)\n",
    "        pass\n",
    "    pass\n"
   ]
  },
  {
   "cell_type": "code",
   "execution_count": 9,
   "metadata": {},
   "outputs": [
    {
     "name": "stdout",
     "output_type": "stream",
     "text": [
      "Эффективность нейронной сети - 0.9696\n"
     ]
    }
   ],
   "source": [
    "#print(scorecard)\n",
    "scorecard_array = numpy.asarray(scorecard)\n",
    "print(\"Эффективность нейронной сети -\", scorecard_array.sum() / scorecard_array.size)"
   ]
  },
  {
   "cell_type": "code",
   "execution_count": 56,
   "metadata": {},
   "outputs": [
    {
     "name": "stdout",
     "output_type": "stream",
     "text": [
      "network says  2\n"
     ]
    }
   ],
   "source": [
    "img_array = imageio.imread(\"test_images/test3.png\", as_gray=True)\n",
    "img_data = 255.0 - img_array.reshape(784)\n",
    "img_data = (img_data / 255.0 * 0.99) + 0.01\n",
    "\n",
    "outputs = n.query(img_data)\n",
    "label = numpy.argmax(outputs)\n",
    "print(\"network says \", label)"
   ]
  },
  {
   "cell_type": "code",
   "execution_count": 67,
   "metadata": {},
   "outputs": [
    {
     "name": "stdout",
     "output_type": "stream",
     "text": [
      "[0.01 0.01 0.01 0.01 0.01 0.01 0.01 0.01 0.01 0.99]\n"
     ]
    },
    {
     "data": {
      "text/plain": [
       "<matplotlib.image.AxesImage at 0xfe34648>"
      ]
     },
     "execution_count": 67,
     "metadata": {},
     "output_type": "execute_result"
    },
    {
     "data": {
      "image/png": "[encoded data removed]",
      "text/plain": [
       "<Figure size 432x288 with 1 Axes>"
      ]
     },
     "metadata": {
      "needs_background": "light"
     },
     "output_type": "display_data"
    }
   ],
   "source": [
    "# run the network backwards, given a label, see what image it produces\n",
    "\n",
    "# label to test\n",
    "label = 9\n",
    "# create the output signals for this label\n",
    "targets = numpy.zeros(output_nodes) + 0.01\n",
    "# all_values[0] is the target label for this record\n",
    "targets[label] = 0.99\n",
    "print(targets)\n",
    "\n",
    "# get image data\n",
    "image_data = n.backquery(targets)\n",
    "\n",
    "# plot image data\n",
    "matplotlib.pyplot.imshow(image_data.reshape(28,28), cmap='Greys', interpolation='None')"
   ]
  },
  {
   "cell_type": "code",
   "execution_count": null,
   "metadata": {},
   "outputs": [],
   "source": []
  }
 ],
 "metadata": {
  "kernelspec": {
   "display_name": "Python 3",
   "language": "python",
   "name": "python3"
  },
  "language_info": {
   "codemirror_mode": {
    "name": "ipython",
    "version": 3
   },
   "file_extension": ".py",
   "mimetype": "text/x-python",
   "name": "python",
   "nbconvert_exporter": "python",
   "pygments_lexer": "ipython3",
   "version": "3.7.4"
  }
 },
 "nbformat": 4,
 "nbformat_minor": 2
}
